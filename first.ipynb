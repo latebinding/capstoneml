#Notebook to be used for capstone project

import numpy as np
import pandas as pd

print("Hello Capstone Project Course!")
